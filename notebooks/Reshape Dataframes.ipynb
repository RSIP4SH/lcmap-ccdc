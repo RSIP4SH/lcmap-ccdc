{
 "cells": [
  {
   "cell_type": "code",
   "execution_count": null,
   "metadata": {},
   "outputs": [],
   "source": [
    "from cytoolz     import take\n",
    "from firebird    import ARD\n",
    "from firebird    import grid\n",
    "from firebird    import pyccd\n",
    "from firebird    import timeseries\n",
    "from importlib   import reload\n",
    "from pyspark.sql import SparkSession\n",
    "\n",
    "import firebird\n",
    "import pyspark"
   ]
  },
  {
   "cell_type": "code",
   "execution_count": null,
   "metadata": {},
   "outputs": [],
   "source": [
    "ss = SparkSession(pyspark.SparkContext())"
   ]
  },
  {
   "cell_type": "code",
   "execution_count": null,
   "metadata": {},
   "outputs": [],
   "source": [
    "from importlib import reload\n",
    "reload(grid)"
   ]
  },
  {
   "cell_type": "code",
   "execution_count": null,
   "metadata": {},
   "outputs": [],
   "source": [
    "x = -2094585 \n",
    "y = 1952805\n",
    "\n",
    "tile = grid.tile(x=x, y=y, cfg=ARD)\n",
    "\n",
    "chips = take(1, tile.get('chips'))\n",
    "\n",
    "ids = timeseries.ids(ctx=ss.sparkContext,\n",
    "                     chips=chips)\n",
    "\n",
    "#ard = timeseries.ard(ctx=ss.sparkContext, \n",
    "#                     acquired='1980-01-01/2017-01-01', \n",
    "#                     ids=ids)\n",
    "\n",
    "ard = timeseries.rdd(ctx=ss.sparkContext, ids=ids, acquired='1980-01-01/2017-01-01', cfg=firebird.ARD, name='ard')"
   ]
  },
  {
   "cell_type": "code",
   "execution_count": null,
   "metadata": {},
   "outputs": [],
   "source": [
    "rdd = pyccd.rdd(ctx=ss.sparkContext, timeseries=ard)"
   ]
  },
  {
   "cell_type": "code",
   "execution_count": null,
   "metadata": {},
   "outputs": [],
   "source": [
    "rdd.take(1)"
   ]
  },
  {
   "cell_type": "code",
   "execution_count": 31,
   "metadata": {},
   "outputs": [
    {
     "data": {
      "text/plain": [
       "((-2115585, 1964805, -2114145, 1964715),\n",
       " {'blues': array([-9999,   295, -9999,   204, -9999,   238, -9999, -9999,   195,\n",
       "         -9999, -9999, -9999], dtype=int16),\n",
       "  'dates': [734992,\n",
       "   734991,\n",
       "   734984,\n",
       "   734983,\n",
       "   734976,\n",
       "   734975,\n",
       "   734448,\n",
       "   734441,\n",
       "   734439,\n",
       "   727265,\n",
       "   726648,\n",
       "   726616],\n",
       "  'greens': array([-9999,   499, -9999,   422, -9999,   363, -9999, -9999,   334,\n",
       "         -9999, -9999, -9999], dtype=int16),\n",
       "  'nirs': array([-9999,  2329, -9999,  2379, -9999,  2115, -9999, -9999,  1629,\n",
       "         -9999, -9999, -9999], dtype=int16),\n",
       "  'qas': array([  1,  66,   1, 322,   1,  66,   1,   1,  66,   1,   1,   1], dtype=uint16),\n",
       "  'reds': array([-9999,   413, -9999,   324, -9999,   315, -9999, -9999,   264,\n",
       "         -9999, -9999, -9999], dtype=int16),\n",
       "  'swir1s': array([-9999,  1322, -9999,  1205, -9999,  1100, -9999, -9999,   743,\n",
       "         -9999, -9999, -9999], dtype=int16),\n",
       "  'swir2s': array([-9999,   593, -9999,   593, -9999,   522, -9999, -9999,   375,\n",
       "         -9999, -9999, -9999], dtype=int16),\n",
       "  'thermals': array([-9999,  3020, -9999,  2930, -9999,  2902, -9999, -9999,  2920,\n",
       "         -9999, -9999, -9999], dtype=int16)})"
      ]
     },
     "execution_count": 31,
     "metadata": {},
     "output_type": "execute_result"
    }
   ],
   "source": []
  },
  {
   "cell_type": "code",
   "execution_count": null,
   "metadata": {},
   "outputs": [],
   "source": []
  },
  {
   "cell_type": "code",
   "execution_count": null,
   "metadata": {},
   "outputs": [],
   "source": []
  },
  {
   "cell_type": "code",
   "execution_count": null,
   "metadata": {},
   "outputs": [],
   "source": [
    "from cytoolz import assoc\n",
    "from cytoolz import assoc_in\n",
    "from cytoolz import get\n",
    "from cytoolz import get_in\n",
    "from cytoolz import merge"
   ]
  },
  {
   "cell_type": "code",
   "execution_count": 35,
   "metadata": {},
   "outputs": [],
   "source": [
    "reload(timeseries)\n",
    "aux = timeseries.aux(acquired='1980-01-01/2017-01-01', ctx=ss.sparkContext, ids=ids)"
   ]
  },
  {
   "cell_type": "code",
   "execution_count": 45,
   "metadata": {},
   "outputs": [
    {
     "data": {
      "text/plain": [
       "[Row(trends_freqItems=[[0]])]"
      ]
     },
     "execution_count": 45,
     "metadata": {},
     "output_type": "execute_result"
    }
   ],
   "source": [
    "aux.freqItems(cols=['trends']).collect()"
   ]
  },
  {
   "cell_type": "code",
   "execution_count": 59,
   "metadata": {},
   "outputs": [
    {
     "data": {
      "text/plain": [
       "Row(chipx=-2115585, chipy=1964805, x=-2114145, y=1964715, dates=[730332], dem=None, trends=[0], aspect=None, posidex=None, slope=None, mpw=None)"
      ]
     },
     "execution_count": 59,
     "metadata": {},
     "output_type": "execute_result"
    }
   ],
   "source": [
    "#aux.filter(aux.trends. > 0)\n",
    "aux.first()"
   ]
  },
  {
   "cell_type": "code",
   "execution_count": 77,
   "metadata": {},
   "outputs": [
    {
     "data": {
      "text/plain": [
       "Row(chipx=-2115585, chipy=1964805, x=-2114145, y=1964715, dates=[730332], dem=None, trends=[0], aspect=None, posidex=None, slope=None, mpw=None)"
      ]
     },
     "execution_count": 77,
     "metadata": {},
     "output_type": "execute_result"
    }
   ],
   "source": [
    "aux.filter(aux.trends[0] != 1).first()"
   ]
  },
  {
   "cell_type": "code",
   "execution_count": 67,
   "metadata": {},
   "outputs": [],
   "source": [
    "from pyspark.sql.functions import first\n",
    "from pyspark.sql import functions as ff"
   ]
  },
  {
   "cell_type": "code",
   "execution_count": 66,
   "metadata": {},
   "outputs": [
    {
     "data": {
      "text/plain": [
       "Column<b'first(trends, false)'>"
      ]
     },
     "execution_count": 66,
     "metadata": {},
     "output_type": "execute_result"
    }
   ],
   "source": [
    "first(aux.trends)"
   ]
  },
  {
   "cell_type": "code",
   "execution_count": 73,
   "metadata": {},
   "outputs": [
    {
     "data": {
      "text/plain": [
       "Column<b'trends[0]'>"
      ]
     },
     "execution_count": 73,
     "metadata": {},
     "output_type": "execute_result"
    }
   ],
   "source": [
    "aux.trends[0]"
   ]
  },
  {
   "cell_type": "code",
   "execution_count": 86,
   "metadata": {},
   "outputs": [],
   "source": [
    "aux.filter('trends[0] NOT IN (0, 9)').first()"
   ]
  },
  {
   "cell_type": "code",
   "execution_count": null,
   "metadata": {},
   "outputs": [],
   "source": []
  }
 ],
 "metadata": {
  "kernelspec": {
   "display_name": "Python 3",
   "language": "python",
   "name": "python3"
  },
  "language_info": {
   "codemirror_mode": {
    "name": "ipython",
    "version": 3
   },
   "file_extension": ".py",
   "mimetype": "text/x-python",
   "name": "python",
   "nbconvert_exporter": "python",
   "pygments_lexer": "ipython3",
   "version": "3.6.2"
  }
 },
 "nbformat": 4,
 "nbformat_minor": 2
}
