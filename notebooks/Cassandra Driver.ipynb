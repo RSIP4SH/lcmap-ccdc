{
 "cells": [
  {
   "cell_type": "code",
   "execution_count": null,
   "metadata": {},
   "outputs": [],
   "source": [
    "from cassandra.cluster import Cluster\n",
    "from cassandra import ConsistencyLevel\n",
    "from cassandra import policies"
   ]
  },
  {
   "cell_type": "code",
   "execution_count": null,
   "metadata": {},
   "outputs": [],
   "source": [
    "# Use ExecutionProfiles from version 4.0 onwards\n",
    "\n",
    "cluster = Cluster(['127.0.1.1',], \n",
    "                  port=9043, \n",
    "                  load_balancing_policy=policies.RoundRobinPolicy()) \n",
    "\n",
    "# Getting a session actually connects to Cassandra\n",
    "session = cluster.connect('lcmap_local')\n"
   ]
  },
  {
   "cell_type": "code",
   "execution_count": null,
   "metadata": {},
   "outputs": [],
   "source": [
    "# use prepared statements to cut down on network traffic and parsing load in cassandra\n",
    "\n",
    "insert_dates = session.prepare('INSERT INTO ard_dates2 (chipx, chipy, dates) VALUES (?, ?, ?);')\n",
    "insert_dates.consistency_level = ConsistencyLevel.QUORUM                               \n",
    "\n",
    "# these will both use QUORUM\n",
    "session.execute(insert_dates.bind([0, 0, [0, 2, 4, 8, 10]]))\n",
    "session.execute(insert_dates.bind([0, 1, [11, 33, 55, 77, 99]]))\n",
    "\n",
    "# Additional inserts are actually upserts\n",
    "\n",
    "session.execute(\"INSERT INTO ard_dates2 (chipx, chipy, another) VALUES (0, 0, 'brick in the wall')\")"
   ]
  },
  {
   "cell_type": "code",
   "execution_count": 82,
   "metadata": {},
   "outputs": [
    {
     "name": "stdout",
     "output_type": "stream",
     "text": [
      "Row(chipx=0, chipy=0, another='brick in the wall', dates=[0, 2, 4, 8, 10])\n",
      "0\n",
      "0\n",
      "[0, 2, 4, 8, 10]\n",
      "Row(chipx=0, chipy=1, another=None, dates=[11, 33, 55, 77, 99])\n",
      "0\n",
      "1\n",
      "[11, 33, 55, 77, 99]\n"
     ]
    }
   ],
   "source": [
    "# access results via the cursor.  Results are namedtuples by default\n",
    "\n",
    "for r in session.execute('select * from ard_dates2'):\n",
    "    print(r)\n",
    "    print(r.chipx)\n",
    "    print(r.chipy)\n",
    "    print(r.dates)"
   ]
  },
  {
   "cell_type": "code",
   "execution_count": null,
   "metadata": {},
   "outputs": [],
   "source": [
    "session.shutdown()\n"
   ]
  }
 ],
 "metadata": {
  "kernelspec": {
   "display_name": "Python 3",
   "language": "python",
   "name": "python3"
  },
  "language_info": {
   "codemirror_mode": {
    "name": "ipython",
    "version": 3
   },
   "file_extension": ".py",
   "mimetype": "text/x-python",
   "name": "python",
   "nbconvert_exporter": "python",
   "pygments_lexer": "ipython3",
   "version": "3.6.2"
  }
 },
 "nbformat": 4,
 "nbformat_minor": 2
}
